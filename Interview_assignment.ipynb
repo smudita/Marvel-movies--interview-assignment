{
 "cells": [
  {
   "cell_type": "code",
   "execution_count": 2,
   "id": "e89530b9",
   "metadata": {},
   "outputs": [],
   "source": [
    "import json\n",
    "\n",
    "data = open(\"interview_data.json\",\"r\")"
   ]
  },
  {
   "cell_type": "code",
   "execution_count": 3,
   "id": "866a6a29",
   "metadata": {},
   "outputs": [],
   "source": [
    "jsondata = data.read()\n",
    "json_obj = json.loads(jsondata)"
   ]
  },
  {
   "cell_type": "code",
   "execution_count": 140,
   "id": "41be3447",
   "metadata": {},
   "outputs": [
    {
     "name": "stdout",
     "output_type": "stream",
     "text": [
      "Star Name:   ' Chris Pratt '   | Movies:   ' 2 '  | AVG Rating:   ' 7.80 '\n",
      "Star Name:   ' Vin Diesel '   | Movies:   ' 2 '  | AVG Rating:   ' 7.80 '\n",
      "Star Name:   ' Zoe Saldana '   | Movies:   ' 2 '  | AVG Rating:   ' 7.80 '\n",
      "Star Name:   ' James Franco '   | Movies:   ' 2 '  | AVG Rating:   ' 7.30 '\n",
      "Star Name:   ' Morena Baccarin '   | Movies:   ' 2 '  | AVG Rating:   ' 7.85 '\n",
      "Star Name:   ' T.J. Miller '   | Movies:   ' 2 '  | AVG Rating:   ' 7.90 '\n",
      "Star Name:   ' Halle Berry '   | Movies:   ' 2 '  | AVG Rating:   ' 7.05 '\n",
      "Star Name:   ' Michael Fassbender '   | Movies:   ' 2 '  | AVG Rating:   ' 7.30 '\n",
      "Star Name:   ' Jennifer Lawrence '   | Movies:   ' 2 '  | AVG Rating:   ' 7.30 '\n",
      "Star Name:   ' Michael B. Jordan '   | Movies:   ' 2 '  | AVG Rating:   ' 5.75 '\n",
      "Star Name:   ' Tom Holland '   | Movies:   ' 2 '  | AVG Rating:   ' 7.40 '\n",
      "Star Name:   ' Marisa Tomei '   | Movies:   ' 2 '  | AVG Rating:   ' 7.40 '\n",
      "Star Name:   ' Paul Rudd '   | Movies:   ' 2 '  | AVG Rating:   ' 7.15 '\n",
      "Star Name:   ' Evangeline Lilly '   | Movies:   ' 2 '  | AVG Rating:   ' 7.15 '\n",
      "Star Name:   ' Natalie Portman '   | Movies:   ' 2 '  | AVG Rating:   ' 6.90 '\n",
      "Star Name:   ' Famke Janssen '   | Movies:   ' 2 '  | AVG Rating:   ' 7.05 '\n",
      "Star Name:   ' Don Cheadle '   | Movies:   ' 2 '  | AVG Rating:   ' 7.05 '\n",
      "Star Name:   ' Andrew Garfield '   | Movies:   ' 2 '  | AVG Rating:   ' 6.75 '\n",
      "Star Name:   ' Emma Stone '   | Movies:   ' 2 '  | AVG Rating:   ' 6.75 '\n",
      "Star Name:   ' Will Yun Lee '   | Movies:   ' 2 '  | AVG Rating:   ' 5.70 '\n",
      "Star Name:   ' Sam Elliott '   | Movies:   ' 2 '  | AVG Rating:   ' 5.45 '\n",
      "Star Name:   ' Ioan Gruffudd '   | Movies:   ' 2 '  | AVG Rating:   ' 5.65 '\n",
      "Star Name:   ' Michael Chiklis '   | Movies:   ' 2 '  | AVG Rating:   ' 5.65 '\n",
      "Star Name:   ' Jessica Alba '   | Movies:   ' 2 '  | AVG Rating:   ' 5.65 '\n",
      "Star Name:   ' Nicolas Cage '   | Movies:   ' 2 '  | AVG Rating:   ' 4.80 '\n",
      "Star Name:   ' Jennifer Garner '   | Movies:   ' 2 '  | AVG Rating:   ' 5.00 '\n",
      "Star Name:   ' Scarlett Johansson '   | Movies:   ' 3 '  | AVG Rating:   ' 7.83 '\n",
      "Star Name:   ' Ian McKellen '   | Movies:   ' 3 '  | AVG Rating:   ' 7.57 '\n",
      "Star Name:   ' James McAvoy '   | Movies:   ' 3 '  | AVG Rating:   ' 7.50 '\n",
      "Star Name:   ' Gwyneth Paltrow '   | Movies:   ' 3 '  | AVG Rating:   ' 7.33 '\n",
      "Star Name:   ' Tobey Maguire '   | Movies:   ' 3 '  | AVG Rating:   ' 6.93 '\n",
      "Star Name:   ' Kirsten Dunst '   | Movies:   ' 3 '  | AVG Rating:   ' 6.93 '\n",
      "Star Name:   ' Tom Hiddleston '   | Movies:   ' 3 '  | AVG Rating:   ' 7.23 '\n",
      "Star Name:   ' Wesley Snipes '   | Movies:   ' 3 '  | AVG Rating:   ' 6.53 '\n",
      "Star Name:   ' Kris Kristofferson '   | Movies:   ' 3 '  | AVG Rating:   ' 6.53 '\n",
      "Star Name:   ' Mark Ruffalo '   | Movies:   ' 4 '  | AVG Rating:   ' 8.00 '\n",
      "Star Name:   ' Samuel L. Jackson '   | Movies:   ' 4 '  | AVG Rating:   ' 7.20 '\n",
      "Star Name:   ' Ryan Reynolds '   | Movies:   ' 4 '  | AVG Rating:   ' 7.02 '\n",
      "Star Name:   ' Patrick Stewart '   | Movies:   ' 5 '  | AVG Rating:   ' 7.50 '\n",
      "Star Name:   ' Chris Hemsworth '   | Movies:   ' 6 '  | AVG Rating:   ' 7.63 '\n",
      "Star Name:   ' Hugh Jackman '   | Movies:   ' 7 '  | AVG Rating:   ' 7.26 '\n",
      "Star Name:   ' Robert Downey Jr. '   | Movies:   ' 9 '  | AVG Rating:   ' 7.70 '\n",
      "Star Name:   ' Chris Evans '   | Movies:   ' 9 '  | AVG Rating:   ' 7.31 '\n"
     ]
    }
   ],
   "source": [
    "dictR = {} #dictionary for star:ratings\n",
    "dictM = {} #dictionary for star:movies count\n",
    "\n",
    "for s in json_obj: #Traversing the json list\n",
    "    starName = s[\"stars\"]  #Getting the star name\n",
    "    rating = float(s[\"rating\"]) #Getting the rating\n",
    "    keys = starName.split(\",\")  #Splitting the string of star names\n",
    "    for k in keys:\n",
    "        k = k.strip()  #removing spaces from names\n",
    "        count = 0\n",
    "        if (k in dictR):  #if name already present in dictionary\n",
    "            r = dictR.get(k) + rating # add the rating of the movies to previous rating\n",
    "            dictR[k] = r\n",
    "        else:  # make a new key for the name\n",
    "            r =  rating \n",
    "            dictR[k] = r\n",
    "        if(k in dictM): \n",
    "            count = dictM.get(k) + 1\n",
    "            dictM[k] = count\n",
    "        else:\n",
    "            count = count + 1\n",
    "            dictM[k] = count\n",
    "\n",
    "#Sort the dictionary with movie count\n",
    "sorted_dt = {key: value for key, value in sorted(dictM.items(), key=lambda item: item[1])}\n",
    "\n",
    "\n",
    "for key, value in sorted_dt.items():\n",
    "    \n",
    "    if(value>1):\n",
    "        print(\"Star Name: \",\" '\",key,\"'\",\" \",\"| Movies: \",\" '\",value,\"' \",\"| AVG Rating: \",\" '\",\"{:.2f}\".format(dictR.get(key)/value),\"'\")\n"
   ]
  },
  {
   "cell_type": "code",
   "execution_count": null,
   "id": "342734d6",
   "metadata": {},
   "outputs": [],
   "source": []
  }
 ],
 "metadata": {
  "kernelspec": {
   "display_name": "Python 3 (ipykernel)",
   "language": "python",
   "name": "python3"
  },
  "language_info": {
   "codemirror_mode": {
    "name": "ipython",
    "version": 3
   },
   "file_extension": ".py",
   "mimetype": "text/x-python",
   "name": "python",
   "nbconvert_exporter": "python",
   "pygments_lexer": "ipython3",
   "version": "3.9.12"
  }
 },
 "nbformat": 4,
 "nbformat_minor": 5
}
